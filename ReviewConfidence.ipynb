{
 "cells": [
  {
   "cell_type": "code",
   "execution_count": 163,
   "metadata": {},
   "outputs": [],
   "source": [
    "import pandas as pd\n",
    "import numpy as np\n",
    "import matplotlib.pyplot as plt\n",
    "import seaborn as sns\n",
    "import time\n",
    "import math\n",
    "import datetime"
   ]
  },
  {
   "cell_type": "code",
   "execution_count": 164,
   "metadata": {},
   "outputs": [],
   "source": [
    "Pcf_reviewer_con = pd.read_csv('./CacheData/reviewer_confidence/outPutPcf.csv', index_col=0)['Trust']\n",
    "\n",
    "Mcw_reviewer_con = pd.read_csv('./CacheData/reviewer_confidence/outPutMcw.csv', index_col=0)['Trust']\n",
    "\n",
    "Hdr_reviewer_con = pd.read_csv('./CacheData/reviewer_confidence/outPutHdr.csv', index_col=0)['Trust']"
   ]
  },
  {
   "cell_type": "code",
   "execution_count": 165,
   "metadata": {},
   "outputs": [],
   "source": [
    "Pcf_reviewer_con_mean = Pcf_reviewer_con.values.mean()\n",
    "\n",
    "Mcw_reviewer_con_mean = Mcw_reviewer_con.values.mean()\n",
    "\n",
    "Hdr_reviewer_con_mean = Hdr_reviewer_con.values.mean()"
   ]
  },
  {
   "cell_type": "markdown",
   "metadata": {},
   "source": [
    "零值均值填充处理"
   ]
  },
  {
   "cell_type": "code",
   "execution_count": 166,
   "metadata": {},
   "outputs": [],
   "source": [
    "Pcf_reviewer_con = Pcf_reviewer_con.map(lambda x: x if x != 0.0 else Pcf_reviewer_con_mean)\n",
    "\n",
    "Mcw_reviewer_con = Mcw_reviewer_con.map(lambda x: x if x != 0.0 else Mcw_reviewer_con_mean)\n",
    "\n",
    "Hdr_reviewer_con = Hdr_reviewer_con.map(lambda x: x if x != 0.0 else Hdr_reviewer_con_mean)"
   ]
  },
  {
   "cell_type": "code",
   "execution_count": 167,
   "metadata": {},
   "outputs": [],
   "source": [
    "Pcf_review_con = pd.read_csv('./CacheData/delta/Pcf_result.csv', index_col=0)\n",
    "\n",
    "Mcw_review_con = pd.read_csv('./CacheData/delta/Mcw_result.csv', index_col=0)\n",
    "\n",
    "Hdr_review_con = pd.read_csv('./CacheData/delta/Hdr_result.csv', index_col=0)"
   ]
  },
  {
   "cell_type": "code",
   "execution_count": 168,
   "metadata": {},
   "outputs": [],
   "source": [
    "Pcf_review_con = Pcf_review_con.rename(columns={'综合得分指数': 'delta'})\n",
    "\n",
    "Mcw_review_con = Mcw_review_con.rename(columns={'综合得分指数': 'delta'})\n",
    "\n",
    "Hdr_review_con = Hdr_review_con.rename(columns={'综合得分指数': 'delta'})"
   ]
  },
  {
   "cell_type": "markdown",
   "metadata": {},
   "source": [
    "时效性"
   ]
  },
  {
   "cell_type": "code",
   "execution_count": 169,
   "metadata": {},
   "outputs": [],
   "source": [
    "Pcf_time = pd.read_csv('./CacheData/reviewer_confidence/outPutPcf.csv', index_col=0)['review_date']\n",
    "\n",
    "Mcw_time = pd.read_csv('./CacheData/reviewer_confidence/outPutMcw.csv', index_col=0)['review_date']\n",
    "\n",
    "Hdr_time = pd.read_csv('./CacheData/reviewer_confidence/outPutHdr.csv', index_col=0)['review_date']"
   ]
  },
  {
   "cell_type": "code",
   "execution_count": 175,
   "metadata": {},
   "outputs": [
    {
     "data": {
      "text/plain": [
       "0        2015-08-31\n",
       "1        2015-08-31\n",
       "2        2015-08-31\n",
       "3        2015-08-31\n",
       "4        2015-08-31\n",
       "            ...    \n",
       "11046    2004-05-24\n",
       "11047    2004-04-04\n",
       "11048    2004-04-04\n",
       "11049    2003-12-02\n",
       "11050    2003-04-27\n",
       "Name: review_date, Length: 11051, dtype: object"
      ]
     },
     "execution_count": 175,
     "metadata": {},
     "output_type": "execute_result"
    }
   ],
   "source": [
    "Pcf_time"
   ]
  },
  {
   "cell_type": "code",
   "execution_count": 170,
   "metadata": {},
   "outputs": [],
   "source": [
    "def days_difference(str1: str):\n",
    "    date1 = datetime.datetime.strptime(str1, \"%Y-%m-%d\")\n",
    "    date2 = datetime.datetime.strptime(str(datetime.date.today()), \"%Y-%m-%d\")\n",
    "    diff = (date2-date1).days\n",
    "\n",
    "    return diff"
   ]
  },
  {
   "cell_type": "code",
   "execution_count": 171,
   "metadata": {},
   "outputs": [],
   "source": [
    "def timestamp_transform(date: str):\n",
    "    timeArray = time.strptime(date, \"%Y-%m-%d\")\n",
    "    timestamp = time.mktime(timeArray)\n",
    "\n",
    "    return timestamp"
   ]
  },
  {
   "cell_type": "code",
   "execution_count": 172,
   "metadata": {},
   "outputs": [],
   "source": [
    "Pcf_time_diff = Pcf_time.map(days_difference)\n",
    "\n",
    "Mcw_time_diff = Mcw_time.map(days_difference)\n",
    "\n",
    "Hdr_time_diff = Hdr_time.map(days_difference)"
   ]
  },
  {
   "cell_type": "code",
   "execution_count": 174,
   "metadata": {},
   "outputs": [
    {
     "data": {
      "text/plain": [
       "0    1981\n",
       "1    1981\n",
       "2    1981\n",
       "3    1981\n",
       "4    1981\n",
       "Name: review_date, dtype: int64"
      ]
     },
     "execution_count": 174,
     "metadata": {},
     "output_type": "execute_result"
    }
   ],
   "source": [
    "Pcf_time_diff.head()"
   ]
  },
  {
   "cell_type": "code",
   "execution_count": 125,
   "metadata": {},
   "outputs": [],
   "source": [
    "w_Pcf = Pcf_reviewer_con.values\n",
    "\n",
    "w_Mcw = Mcw_reviewer_con.values\n",
    "\n",
    "w_Hdr = Hdr_reviewer_con.values"
   ]
  },
  {
   "cell_type": "code",
   "execution_count": 126,
   "metadata": {},
   "outputs": [],
   "source": [
    "delta_Pcf = Pcf_review_con.values.flatten()\n",
    "\n",
    "delta_Mcw = Mcw_review_con.values.flatten()\n",
    "\n",
    "delta_Hdr = Hdr_review_con.values.flatten()"
   ]
  },
  {
   "cell_type": "code",
   "execution_count": 176,
   "metadata": {},
   "outputs": [],
   "source": [
    "Pcf_timeliness = Pcf_time_diff.map(lambda x: math.exp((365 - x) / 365)).values\n",
    "\n",
    "Mcw_timeliness = Mcw_time_diff.map(lambda x: math.exp((365 - x) / 365)).values\n",
    "\n",
    "Hdr_timeliness = Hdr_time_diff.map(lambda x: math.exp((365 - x) / 365)).values"
   ]
  },
  {
   "cell_type": "code",
   "execution_count": 186,
   "metadata": {},
   "outputs": [],
   "source": [
    "W_Pcf = w_Pcf * delta_Pcf * Pcf_timeliness\n",
    "\n",
    "W_Mcw = w_Mcw * delta_Mcw * Mcw_timeliness\n",
    "\n",
    "W_Hdr = w_Hdr * delta_Hdr * Hdr_timeliness"
   ]
  },
  {
   "cell_type": "code",
   "execution_count": 187,
   "metadata": {},
   "outputs": [],
   "source": [
    "W_Pcf_data = {\"W\": W_Pcf}\n",
    "Pcf_df = pd.DataFrame(W_Pcf_data)\n",
    "\n",
    "W_Mcw_data = {\"W\": W_Mcw}\n",
    "Mcw_df = pd.DataFrame(W_Mcw_data)\n",
    "\n",
    "W_Hdr_data = {\"W\": W_Hdr}\n",
    "Hdr_df = pd.DataFrame(W_Hdr_data)"
   ]
  },
  {
   "cell_type": "code",
   "execution_count": 188,
   "metadata": {},
   "outputs": [],
   "source": [
    "Pcf_df.to_csv(\"./CacheData/W/Pcf_W.csv\", index=False)\n",
    "\n",
    "Mcw_df.to_csv(\"./CacheData/W/Mcw_W.csv\", index=False)\n",
    "\n",
    "Hdr_df.to_csv(\"./CacheData/W/Hdr_W.csv\", index=False)"
   ]
  }
 ],
 "metadata": {
  "kernelspec": {
   "display_name": "PyCharm (MCMICM2020C)",
   "language": "python",
   "name": "pycharm-40a75171"
  },
  "language_info": {
   "codemirror_mode": {
    "name": "ipython",
    "version": 3
   },
   "file_extension": ".py",
   "mimetype": "text/x-python",
   "name": "python",
   "nbconvert_exporter": "python",
   "pygments_lexer": "ipython3",
   "version": "3.7.7"
  }
 },
 "nbformat": 4,
 "nbformat_minor": 4
}
