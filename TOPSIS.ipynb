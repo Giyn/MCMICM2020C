{
 "cells": [
  {
   "cell_type": "code",
   "execution_count": null,
   "metadata": {
    "collapsed": true
   },
   "outputs": [],
   "source": [
    "import pandas as pd\n",
    "import numpy as np"
   ]
  },
  {
   "cell_type": "code",
   "execution_count": null,
   "outputs": [],
   "source": [
    "Pcf_df = pd.read_csv(\"./CacheData/delta/Pcf_delta.csv\")\n",
    "\n",
    "Mcw_df = pd.read_csv(\"./CacheData/delta/Mcw_delta.csv\")\n",
    "\n",
    "Hdr_df = pd.read_csv(\"./CacheData/delta/Hdr_delta.csv\")"
   ],
   "metadata": {
    "collapsed": false,
    "pycharm": {
     "name": "#%%\n"
    }
   }
  },
  {
   "cell_type": "code",
   "execution_count": null,
   "outputs": [],
   "source": [
    "def topsis(data, weight=None):\n",
    "    \"\"\"\n",
    "\n",
    "    TOPSIS algorithm\n",
    "\n",
    "    Args:\n",
    "        data: Features\n",
    "        weight:\n",
    "\n",
    "    Returns:\n",
    "        Result:\n",
    "        Z:\n",
    "        weight:\n",
    "\n",
    "    \"\"\"\n",
    "    data = data / np.sqrt((data ** 2).sum())  # normalized\n",
    "\n",
    "    Z = pd.DataFrame([data.min(), data.max()], index=['负理想解', '正理想解'])  # best and worst solution\n",
    "\n",
    "    weight = entropy_weight(data) if weight is None else np.array(weight)  # distance\n",
    "    Result = data.copy()\n",
    "    Result['正理想解'] = np.sqrt(((data - Z.loc['正理想解']) ** 2 * weight).sum(axis=1))\n",
    "    Result['负理想解'] = np.sqrt(((data - Z.loc['负理想解']) ** 2 * weight).sum(axis=1))\n",
    "\n",
    "    # composite score index\n",
    "    Result['综合得分指数'] = Result['负理想解'] / (Result['负理想解'] + Result['正理想解'])\n",
    "    Result['排序'] = Result.rank(ascending=False)['综合得分指数']\n",
    "\n",
    "    return Result, Z, weight"
   ],
   "metadata": {
    "collapsed": false,
    "pycharm": {
     "name": "#%%\n"
    }
   }
  },
  {
   "cell_type": "code",
   "execution_count": null,
   "outputs": [],
   "source": [
    "Pcf_res = topsis(Pcf_df, [0.1903, 0.1531, 0.1383, 0.1564, 0.1954, 0.1665])\n",
    "\n",
    "Mcw_res = topsis(Mcw_df, [0.1903, 0.1531, 0.1383, 0.1564, 0.1954, 0.1665])\n",
    "\n",
    "Hdr_res = topsis(Hdr_df, [0.1903, 0.1531, 0.1383, 0.1564, 0.1954, 0.1665])"
   ],
   "metadata": {
    "collapsed": false,
    "pycharm": {
     "name": "#%%\n"
    }
   }
  },
  {
   "cell_type": "code",
   "execution_count": null,
   "outputs": [],
   "source": [
    "Pcf_res[0]"
   ],
   "metadata": {
    "collapsed": false,
    "pycharm": {
     "name": "#%%\n"
    }
   }
  }
 ],
 "metadata": {
  "kernelspec": {
   "display_name": "Python 3",
   "language": "python",
   "name": "python3"
  },
  "language_info": {
   "codemirror_mode": {
    "name": "ipython",
    "version": 2
   },
   "file_extension": ".py",
   "mimetype": "text/x-python",
   "name": "python",
   "nbconvert_exporter": "python",
   "pygments_lexer": "ipython2",
   "version": "2.7.6"
  }
 },
 "nbformat": 4,
 "nbformat_minor": 0
}