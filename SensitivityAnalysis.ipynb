{
 "cells": [
  {
   "cell_type": "code",
   "execution_count": 22,
   "metadata": {},
   "outputs": [],
   "source": [
    "from SALib.sample import saltelli\n",
    "from SALib.analyze import sobol\n",
    "import numpy as np\n",
    "import pandas as pd\n",
    "import math"
   ]
  },
  {
   "cell_type": "code",
   "execution_count": 23,
   "metadata": {},
   "outputs": [
    {
     "name": "stdout",
     "output_type": "stream",
     "text": [
      "Parameter S1 S1_conf ST ST_conf\n",
      "x1 0.286919 0.054936 0.482682 0.073603\n",
      "x2 0.007970 0.011132 0.020988 0.005026\n",
      "x3 0.004685 0.009596 0.013577 0.002560\n",
      "x4 0.011620 0.007285 0.009986 0.001817\n",
      "x5 0.001342 0.009882 0.014049 0.002471\n",
      "x6 0.009412 0.010798 0.022468 0.004127\n",
      "x7 0.001106 0.013939 0.017081 0.003199\n",
      "x8 0.299373 0.050740 0.479234 0.063529\n",
      "x9 0.132589 0.043040 0.239171 0.043195\n",
      "\n",
      "Parameter_1 Parameter_2 S2 S2_conf\n",
      "x1 x2 0.000933 0.091310\n",
      "x1 x3 0.004233 0.092911\n",
      "x1 x4 -0.002036 0.093620\n",
      "x1 x5 0.001830 0.089845\n",
      "x1 x6 0.004909 0.092560\n",
      "x1 x7 -0.001511 0.091417\n",
      "x1 x8 0.081962 0.101405\n",
      "x1 x9 0.046568 0.100072\n",
      "x2 x3 -0.000258 0.020020\n",
      "x2 x4 0.000250 0.020028\n",
      "x2 x5 0.000756 0.020039\n",
      "x2 x6 -0.000214 0.019907\n",
      "x2 x7 0.001056 0.018409\n",
      "x2 x8 0.006939 0.021970\n",
      "x2 x9 0.001251 0.026346\n",
      "x3 x4 -0.001195 0.018173\n",
      "x3 x5 0.000268 0.018191\n",
      "x3 x6 -0.000942 0.018179\n",
      "x3 x7 -0.000687 0.018425\n",
      "x3 x8 0.002545 0.018749\n",
      "x3 x9 0.000629 0.017787\n",
      "x4 x5 -0.011836 0.012486\n",
      "x4 x6 -0.012699 0.012836\n",
      "x4 x7 -0.013647 0.012628\n",
      "x4 x8 -0.008501 0.014640\n",
      "x4 x9 -0.014931 0.014358\n",
      "x5 x6 0.008318 0.017524\n",
      "x5 x7 0.008342 0.016950\n",
      "x5 x8 0.008608 0.019894\n",
      "x5 x9 0.008461 0.020206\n",
      "x6 x7 -0.001279 0.015733\n",
      "x6 x8 -0.000129 0.016464\n",
      "x6 x9 -0.000535 0.018138\n",
      "x7 x8 0.012193 0.026932\n",
      "x7 x9 0.023969 0.026952\n",
      "x8 x9 0.041892 0.095827\n"
     ]
    }
   ],
   "source": [
    "# 模型输入\n",
    "problem = {\n",
    "    'num_vars': 9,\n",
    "    'names': ['x1', 'x2', 'x3', 'x4', 'x5', 'x6', 'x7', 'x8', 'x9'],\n",
    "    'bounds': [[0, 1],\n",
    "               [0, 1],\n",
    "               [0, 1],\n",
    "               [0, 1],\n",
    "               [0, 1],\n",
    "               [0, 1],\n",
    "               [0, 1],\n",
    "               [1.2746e-08, 0.0113],\n",
    "               [1, 5]]\n",
    "}\n",
    "\n",
    "\n",
    "def evaluate(X):\n",
    "    return np.array([np.max(x[0] * (0.1903*x[1] + 0.1531*x[2] + 0.1383*x[3] + 0.1564*x[4] + 0.1954*x[5] + 0.1665*x[6]) * x[7]) * x[8] for x in X])\n",
    "\n",
    "\n",
    "# 生成数据\n",
    "param_values = saltelli.sample(problem, 1000)\n",
    "\n",
    "# 运行模型\n",
    "Y = evaluate(param_values)\n",
    "\n",
    "# 灵敏度分析结果\n",
    "Si = sobol.analyze(problem, Y, print_to_console=True)"
   ]
  },
  {
   "cell_type": "code",
   "execution_count": 28,
   "metadata": {},
   "outputs": [
    {
     "data": {
      "image/png": "[encoded data removed]",
      "text/plain": [
       "<Figure size 432x288 with 1 Axes>"
      ]
     },
     "metadata": {
      "needs_background": "light"
     },
     "output_type": "display_data"
    }
   ],
   "source": [
    "from SALib.plotting.bar import plot as barplot\n",
    "import matplotlib.pyplot as plot\n",
    "\n",
    "Si_df = Si.to_df()\n",
    "img = barplot(Si_df[0])\n",
    "plot.show()\n",
    "fig = img.get_figure()\n",
    "fig.savefig(\"Image/SensitivityAnalysis.png\", dpi=300, bbox_inches='tight', facecolor='white')"
   ]
  }
 ],
 "metadata": {
  "kernelspec": {
   "display_name": "PyCharm (MCMICM2020C)",
   "language": "python",
   "name": "pycharm-40a75171"
  },
  "language_info": {
   "codemirror_mode": {
    "name": "ipython",
    "version": 3
   },
   "file_extension": ".py",
   "mimetype": "text/x-python",
   "name": "python",
   "nbconvert_exporter": "python",
   "pygments_lexer": "ipython3",
   "version": "3.7.7"
  }
 },
 "nbformat": 4,
 "nbformat_minor": 4
}
