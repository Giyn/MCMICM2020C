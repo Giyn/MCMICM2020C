{
 "cells": [
  {
   "cell_type": "code",
   "execution_count": 1,
   "metadata": {
    "collapsed": false,
    "jupyter": {
     "outputs_hidden": false
    },
    "pycharm": {
     "name": "#%%\n"
    }
   },
   "outputs": [],
   "source": [
    "import numpy as np\n",
    "import pandas as pd"
   ]
  },
  {
   "cell_type": "code",
   "execution_count": 73,
   "metadata": {
    "pycharm": {
     "name": "#%%\n"
    }
   },
   "outputs": [],
   "source": [
    "A1 = [0, 0, 0, 0, 0, 0]  # 记录模糊互补矩阵每行和\n",
    "R1 = [0, 0, 0, 0, 0, 0]  # 记录一致性矩阵每行积\n",
    "W = [0, 0, 0, 0, 0, 0]\n",
    "R = np.zeros((6, 6), dtype=np.float)\n",
    "SUM = 0\n",
    "global N\n",
    "N = 6\n",
    "\n",
    "# 模糊互补矩阵\n",
    "A = np.array([\n",
    "    [0.50, 0.75, 0.80, 0.60, 0.50, 0.55],\n",
    "    [0.25, 0.50, 0.65, 0.50, 0.30, 0.40],\n",
    "    [0.20, 0.35, 0.50, 0.40, 0.30, 0.40],\n",
    "    [0.40, 0.50, 0.60, 0.50, 0.30, 0.40],\n",
    "    [0.50, 0.70, 0.70, 0.70, 0.50, 0.75],\n",
    "    [0.45, 0.60, 0.60, 0.60, 0.25, 0.50]\n",
    "])"
   ]
  },
  {
   "cell_type": "code",
   "execution_count": 74,
   "metadata": {},
   "outputs": [],
   "source": [
    "for i in range(N):\n",
    "    A1[i] = 0  # 记录每行的和\n",
    "    for j in range(N):\n",
    "        A1[i] += A[i][j]"
   ]
  },
  {
   "cell_type": "code",
   "execution_count": 75,
   "metadata": {},
   "outputs": [
    {
     "name": "stdout",
     "output_type": "stream",
     "text": [
      "[3.7, 2.5999999999999996, 2.1500000000000004, 2.6999999999999997, 3.8499999999999996, 3.0]\n"
     ]
    }
   ],
   "source": [
    "print(A1)"
   ]
  },
  {
   "cell_type": "code",
   "execution_count": 76,
   "metadata": {},
   "outputs": [],
   "source": [
    "# 转换成模糊一致性矩阵\n",
    "for i in range(N):\n",
    "    for j in range(N):\n",
    "        R[i][j] = (A1[i] - A1[j]) / (2 * N) + 0.5"
   ]
  },
  {
   "cell_type": "code",
   "execution_count": 77,
   "metadata": {},
   "outputs": [],
   "source": [
    "# 幂积法求单层权重\n",
    "for i in range(N):\n",
    "    R1[i] = 1\n",
    "    for j in range(N):\n",
    "        R1[i] *= R[i][j]\n",
    "    W[i] = pow(R1[i], 0.2)\n",
    "    SUM += W[i]"
   ]
  },
  {
   "cell_type": "code",
   "execution_count": 78,
   "metadata": {},
   "outputs": [],
   "source": [
    "for i in range(N):\n",
    "    W[i] = W[i] / SUM"
   ]
  },
  {
   "cell_type": "code",
   "execution_count": 79,
   "metadata": {},
   "outputs": [
    {
     "name": "stdout",
     "output_type": "stream",
     "text": [
      "[0.1902782434413825, 0.1531017730828905, 0.1382761783010694, 0.15642777875918826, 0.19544403666627888, 0.16647198974919047]\n"
     ]
    }
   ],
   "source": [
    "print(W)"
   ]
  }
 ],
 "metadata": {
  "kernelspec": {
   "display_name": "PyCharm (MCMICM2020C)",
   "language": "python",
   "name": "pycharm-40a75171"
  },
  "language_info": {
   "codemirror_mode": {
    "name": "ipython",
    "version": 3
   },
   "file_extension": ".py",
   "mimetype": "text/x-python",
   "name": "python",
   "nbconvert_exporter": "python",
   "pygments_lexer": "ipython3",
   "version": "3.7.7"
  }
 },
 "nbformat": 4,
 "nbformat_minor": 4
}