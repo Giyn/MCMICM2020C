{
 "cells": [
  {
   "cell_type": "code",
   "execution_count": 5,
   "metadata": {},
   "outputs": [],
   "source": [
    "import pandas as pd\n",
    "import numpy as np\n",
    "from scipy import stats, integrate\n",
    "import seaborn as sns\n",
    "import matplotlib.pyplot as plt\n",
    "%matplotlib inline\n",
    "from copy import deepcopy\n",
    "plt.rcParams['font.sans-serif'] = ['SimHei']\n",
    "plt.rcParams['axes.unicode_minus'] = False\n",
    "from matplotlib.font_manager import FontProperties\n",
    "myfont = FontProperties(fname = \"C:\\Windows\\Fonts\\simhei.ttf\", size = 14)\n",
    "sns.set(font = myfont.get_name())\n",
    "import nltk\n",
    "from nltk.tokenize import sent_tokenize, word_tokenize\n",
    "\n",
    "from IPython.core.interactiveshell import InteractiveShell\n",
    "InteractiveShell.ast_node_interactivity = \"all\" # 一个cell显示多输出\n",
    "pd.set_option('display.max_rows', 100) # 设置最大显示100行\n",
    "pd.set_option('display.max_columns', 100) # 设置最大显示100列"
   ]
  },
  {
   "cell_type": "code",
   "execution_count": 6,
   "metadata": {},
   "outputs": [],
   "source": [
    "cleanedDataPcf = pd.read_csv(\"CleanedData/pacifier.csv\", index_col = 0, parse_dates=['review_date'])\n",
    "\n",
    "encodedDataPcf = deepcopy(cleanedDataPcf)\n",
    "\n",
    "cleanedDataMcw = pd.read_csv(\"CleanedData/microwave.csv\", index_col = 0, parse_dates=['review_date'])\n",
    "\n",
    "encodedDataMcw = deepcopy(cleanedDataMcw)\n",
    "\n",
    "cleanedDataHdr = pd.read_csv(\"CleanedData/hair_dryer.csv\", index_col = 0, parse_dates=['review_date'])\n",
    "\n",
    "encodedDataHdr = deepcopy(cleanedDataHdr)"
   ]
  },
  {
   "cell_type": "code",
   "execution_count": 7,
   "metadata": {},
   "outputs": [],
   "source": [
    "encodedDataPcf = encodedDataPcf[[\"customer_id\", \"review_id\", \n",
    "                                 \"product_id\", \"star_rating\", \n",
    "                                 \"helpful_votes\", \"total_votes\", \n",
    "                                 \"vine\", \"verified_purchase\", \n",
    "                                 \"review_headline\", \"review_body\", \n",
    "                                \"review_date\"]]\n",
    "\n",
    "encodedDataMcw = encodedDataMcw[[\"customer_id\", \"review_id\", \n",
    "                                 \"product_id\", \"star_rating\", \n",
    "                                 \"helpful_votes\", \"total_votes\", \n",
    "                                 \"vine\", \"verified_purchase\", \n",
    "                                 \"review_headline\", \"review_body\", \n",
    "                                \"review_date\"]]\n",
    "\n",
    "encodedDataHdr = encodedDataHdr[[\"customer_id\", \"review_id\", \n",
    "                                 \"product_id\", \"star_rating\", \n",
    "                                 \"helpful_votes\", \"total_votes\", \n",
    "                                 \"vine\", \"verified_purchase\", \n",
    "                                 \"review_headline\", \"review_body\", \n",
    "                                \"review_date\"]]"
   ]
  },
  {
   "cell_type": "markdown",
   "metadata": {},
   "source": [
    "只提取有意义的特征"
   ]
  },
  {
   "cell_type": "code",
   "execution_count": 8,
   "metadata": {},
   "outputs": [],
   "source": [
    "encodedDataPcf[\"vine\"] = (encodedDataPcf[\"vine\"] == 'Y') | (encodedDataPcf[\"vine\"] == 'y')\n",
    "\n",
    "encodedDataMcw[\"vine\"] = (encodedDataMcw[\"vine\"] == 'Y') | (encodedDataMcw[\"vine\"] == 'y')\n",
    "\n",
    "encodedDataHdr[\"vine\"] = (encodedDataHdr[\"vine\"] == 'Y') | (encodedDataHdr[\"vine\"] == 'y')\n",
    "\n",
    "encodedDataPcf[\"verified_purchase\"] = (encodedDataPcf[\"verified_purchase\"] == 'Y') | (encodedDataPcf[\"verified_purchase\"] == 'y')\n",
    "\n",
    "encodedDataMcw[\"verified_purchase\"] = (encodedDataMcw[\"verified_purchase\"] == 'Y') | (encodedDataMcw[\"verified_purchase\"] == 'y')\n",
    "\n",
    "encodedDataHdr[\"verified_purchase\"] = (encodedDataHdr[\"verified_purchase\"] == 'Y') | (encodedDataHdr[\"verified_purchase\"] == 'y')"
   ]
  },
  {
   "cell_type": "markdown",
   "metadata": {},
   "source": [
    "把逻辑特征转为布尔值"
   ]
  },
  {
   "cell_type": "code",
   "execution_count": 9,
   "metadata": {},
   "outputs": [],
   "source": [
    "encodedDataPcf[\"product_id\"] = encodedDataPcf[\"product_id\"].str.upper()\n",
    "\n",
    "encodedDataMcw[\"product_id\"] = encodedDataMcw[\"product_id\"].str.upper()\n",
    "\n",
    "encodedDataHdr[\"product_id\"] = encodedDataHdr[\"product_id\"].str.upper()\n",
    "\n",
    "encodedDataPcf[\"customer_id\"] = encodedDataPcf[\"customer_id\"].astype(\"str\")\n",
    "\n",
    "encodedDataMcw[\"customer_id\"] = encodedDataMcw[\"customer_id\"].astype(\"str\")\n",
    "\n",
    "encodedDataHdr[\"customer_id\"] = encodedDataHdr[\"customer_id\"].astype(\"str\")\n",
    "\n",
    "encodedDataPcf[\"review_id\"] = encodedDataPcf[\"review_id\"].str.upper()\n",
    "\n",
    "encodedDataMcw[\"review_id\"] = encodedDataMcw[\"review_id\"].str.upper()\n",
    "\n",
    "encodedDataHdr[\"review_id\"] = encodedDataHdr[\"review_id\"].str.upper()"
   ]
  },
  {
   "cell_type": "markdown",
   "metadata": {},
   "source": [
    "处理Unique Id"
   ]
  },
  {
   "cell_type": "code",
   "execution_count": 10,
   "metadata": {},
   "outputs": [
    {
     "data": {
      "text/plain": [
       "'\\nhelpfulnessRatio [helpful, total]\\nisVine [bool]\\npurchasedRatio [purchased, total]\\n'"
      ]
     },
     "execution_count": 10,
     "metadata": {},
     "output_type": "execute_result"
    }
   ],
   "source": [
    "customerDataBase = {\n",
    "    \n",
    "}\n",
    "\"\"\"\n",
    "helpfulnessRatio [helpful, total]\n",
    "isVine [bool]\n",
    "purchasedRatio [purchased, total]\n",
    "\"\"\"\n",
    "\n",
    "for id in encodedDataPcf[\"customer_id\"] :\n",
    "    \n",
    "    if(id not in customerDataBase) : customerDataBase[id] = {\"helpfulnessRatio\" : [1, 2], \"isVine\" : False, \"purchasedRatio\" : [0, 0]}\n",
    "    \n",
    "for id in encodedDataMcw[\"customer_id\"] :\n",
    "    \n",
    "    if(id not in customerDataBase) : customerDataBase[id] = {\"helpfulnessRatio\" : [1, 2], \"isVine\" : False, \"purchasedRatio\" : [0, 0]}\n",
    "    \n",
    "for id in encodedDataHdr[\"customer_id\"] :\n",
    "    \n",
    "    if(id not in customerDataBase) : customerDataBase[id] = {\"helpfulnessRatio\" : [1, 2], \"isVine\" : False, \"purchasedRatio\" : [0, 0]}\n",
    "\n",
    "        \n",
    "for i in range(0, len(encodedDataPcf)) :\n",
    "    \n",
    "    row = encodedDataPcf.iloc[i]\n",
    "    \n",
    "    customerDataBase[row[\"customer_id\"]][\"helpfulnessRatio\"][0] += row[\"helpful_votes\"]\n",
    "    \n",
    "    customerDataBase[row[\"customer_id\"]][\"helpfulnessRatio\"][1] += row[\"total_votes\"]\n",
    "    \n",
    "    customerDataBase[row[\"customer_id\"]][\"isVine\"] |= row[\"vine\"]\n",
    "    \n",
    "    customerDataBase[row[\"customer_id\"]][\"purchasedRatio\"][0] += row[\"verified_purchase\"]\n",
    "    \n",
    "    customerDataBase[row[\"customer_id\"]][\"purchasedRatio\"][1] += 1\n",
    "    \n",
    "for i in range(0, len(encodedDataMcw)) :\n",
    "    \n",
    "    row = encodedDataMcw.iloc[i]\n",
    "    \n",
    "    customerDataBase[row[\"customer_id\"]][\"helpfulnessRatio\"][0] += row[\"helpful_votes\"]\n",
    "    \n",
    "    customerDataBase[row[\"customer_id\"]][\"helpfulnessRatio\"][1] += row[\"total_votes\"]\n",
    "    \n",
    "    customerDataBase[row[\"customer_id\"]][\"isVine\"] |= row[\"vine\"]\n",
    "    \n",
    "    customerDataBase[row[\"customer_id\"]][\"purchasedRatio\"][0] += row[\"verified_purchase\"]\n",
    "    \n",
    "    customerDataBase[row[\"customer_id\"]][\"purchasedRatio\"][1] += 1\n",
    "    \n",
    "\n",
    "for i in range(0, len(encodedDataHdr)) :\n",
    "    \n",
    "    row = encodedDataHdr.iloc[i]\n",
    "    \n",
    "    customerDataBase[row[\"customer_id\"]][\"helpfulnessRatio\"][0] += row[\"helpful_votes\"]\n",
    "    \n",
    "    customerDataBase[row[\"customer_id\"]][\"helpfulnessRatio\"][1] += row[\"total_votes\"]\n",
    "    \n",
    "    customerDataBase[row[\"customer_id\"]][\"isVine\"] |= row[\"vine\"]\n",
    "    \n",
    "    customerDataBase[row[\"customer_id\"]][\"purchasedRatio\"][0] += row[\"verified_purchase\"]\n",
    "    \n",
    "    customerDataBase[row[\"customer_id\"]][\"purchasedRatio\"][1] += 1\n",
    "    "
   ]
  },
  {
   "cell_type": "markdown",
   "metadata": {},
   "source": [
    "生成评论者数据库，注意有用性投票经过了拉普拉斯平滑"
   ]
  },
  {
   "cell_type": "code",
   "execution_count": 11,
   "metadata": {},
   "outputs": [],
   "source": [
    "# customerDataBase"
   ]
  },
  {
   "cell_type": "code",
   "execution_count": 12,
   "metadata": {},
   "outputs": [
    {
     "data": {
      "text/plain": [
       "'\\nreviews\\n'"
      ]
     },
     "execution_count": 12,
     "metadata": {},
     "output_type": "execute_result"
    }
   ],
   "source": [
    "productDataBasePcf = {\n",
    "    \n",
    "}\n",
    "productDataBaseMcw = {\n",
    "    \n",
    "}\n",
    "productDataBaseHdr = {\n",
    "    \n",
    "}\n",
    "\"\"\"\n",
    "reviews\n",
    "\"\"\"\n",
    "\n",
    "for id in encodedDataPcf[\"product_id\"] :\n",
    "    \n",
    "    if(id not in productDataBasePcf) : productDataBasePcf[id] = []\n",
    "    \n",
    "for id in encodedDataMcw[\"product_id\"] :\n",
    "    \n",
    "    if(id not in productDataBaseMcw) : productDataBaseMcw[id] = []\n",
    "        \n",
    "for id in encodedDataHdr[\"product_id\"] :\n",
    "    \n",
    "    if(id not in productDataBaseHdr) : productDataBaseHdr[id] = []\n",
    "    \n",
    "        \n",
    "for i in range(0, len(encodedDataPcf)) :\n",
    "    \n",
    "    row = encodedDataPcf.iloc[i]\n",
    "    \n",
    "    productDataBasePcf[row[\"product_id\"]].append(row)\n",
    "    \n",
    "for i in range(0, len(encodedDataMcw)) :\n",
    "    \n",
    "    row = encodedDataMcw.iloc[i]\n",
    "    \n",
    "    productDataBaseMcw[row[\"product_id\"]].append(row)\n",
    "\n",
    "for i in range(0, len(encodedDataHdr)) :\n",
    "    \n",
    "    row = encodedDataHdr.iloc[i]\n",
    "    \n",
    "    productDataBaseHdr[row[\"product_id\"]].append(row)\n"
   ]
  },
  {
   "cell_type": "code",
   "execution_count": 13,
   "metadata": {},
   "outputs": [
    {
     "data": {
      "text/plain": [
       "'\\nrating\\ntruthnesss(Reputation of reviewer)\\nNLP score\\n'"
      ]
     },
     "execution_count": 13,
     "metadata": {},
     "output_type": "execute_result"
    }
   ],
   "source": [
    "encodedProductDataBasePcf = {\n",
    "    \n",
    "}\n",
    "encodedProductDataBaseMcw = {\n",
    "    \n",
    "}\n",
    "encodedProductDataBaseHdr = {\n",
    "    \n",
    "}\n",
    "\"\"\"\n",
    "rating\n",
    "truthnesss(Reputation of reviewer)\n",
    "NLP score\n",
    "\"\"\"\n",
    "\n",
    "for id in productDataBasePcf :\n",
    "    reviews = productDataBasePcf[id]\n",
    "    \n",
    "    encodedProductDataBasePcf[id] = []\n",
    "    \n",
    "    for i in reviews :\n",
    "        \n",
    "        reviewHeadline = i[\"review_headline\"]\n",
    "        \n",
    "        reviewBody = str(i[\"review_body\"])\n",
    "        \n",
    "        reviewBody = reviewBody.replace(\"<br/>\", \"\")\n",
    "        \n",
    "        # print(word_tokenize(reviewBody))\n",
    "        \n",
    "        encodedProductDataBasePcf[id].append(\n",
    "        [\n",
    "            int(i[\"star_rating\"]), \n",
    "            customerDataBase[i[\"customer_id\"]][\"helpfulnessRatio\"][0] / customerDataBase[i[\"customer_id\"]][\"helpfulnessRatio\"][1], \n",
    "            0, \n",
    "            i[\"review_date\"]\n",
    "        ])"
   ]
  },
  {
   "cell_type": "code",
   "execution_count": 14,
   "metadata": {},
   "outputs": [],
   "source": [
    "# encodedProductDataBasePcf"
   ]
  },
  {
   "cell_type": "markdown",
   "metadata": {},
   "source": [
    "合并评论"
   ]
  },
  {
   "cell_type": "code",
   "execution_count": 15,
   "metadata": {},
   "outputs": [],
   "source": [
    "def merge_review(df):\n",
    "    df['review_headline'] = df['review_headline'].apply(str)\n",
    "    df['review_body'] = df['review_body'].apply(str)\n",
    "    df['review'] = df['review_headline'] + '. ' + df['review_body']"
   ]
  },
  {
   "cell_type": "code",
   "execution_count": 16,
   "metadata": {
    "pycharm": {
     "name": "#%%\n"
    }
   },
   "outputs": [],
   "source": [
    "merge_review(encodedDataPcf)\n",
    "\n",
    "merge_review(encodedDataMcw)\n",
    "\n",
    "merge_review(encodedDataHdr)"
   ]
  },
  {
   "cell_type": "code",
   "execution_count": 17,
   "metadata": {
    "collapsed": false,
    "jupyter": {
     "outputs_hidden": false
    },
    "pycharm": {
     "name": "#%%\n"
    }
   },
   "outputs": [],
   "source": [
    "encodedDataPcf = encodedDataPcf.drop(['review_headline', 'review_body'], axis=1)\n",
    "\n",
    "encodedDataMcw = encodedDataMcw.drop(['review_headline', 'review_body'], axis=1)\n",
    "\n",
    "encodedDataHdr = encodedDataHdr.drop(['review_headline', 'review_body'], axis=1)"
   ]
  },
  {
   "cell_type": "markdown",
   "metadata": {},
   "source": [
    "获取评论情感评分"
   ]
  },
  {
   "cell_type": "code",
   "execution_count": 18,
   "metadata": {
    "collapsed": false,
    "jupyter": {
     "outputs_hidden": false
    },
    "pycharm": {
     "name": "#%%\n"
    }
   },
   "outputs": [],
   "source": [
    "from vaderSentiment.vaderSentiment import SentimentIntensityAnalyzer\n",
    "\n",
    "def get_review_score(sentence: str) -> float:\n",
    "    analyzer = SentimentIntensityAnalyzer()\n",
    "    score = analyzer.polarity_scores(sentence)\n",
    "    score = score['compound']\n",
    "\n",
    "    return score"
   ]
  },
  {
   "cell_type": "code",
   "execution_count": 19,
   "metadata": {
    "collapsed": false,
    "jupyter": {
     "outputs_hidden": false
    },
    "pycharm": {
     "name": "#%%\n"
    }
   },
   "outputs": [],
   "source": [
    "encodedDataPcf['review_score'] = encodedDataPcf['review'].map(get_review_score)\n",
    "\n",
    "encodedDataMcw['review_score'] = encodedDataMcw['review'].map(get_review_score)\n",
    "\n",
    "encodedDataHdr['review_score'] = encodedDataHdr['review'].map(get_review_score)"
   ]
  },
  {
   "cell_type": "code",
   "execution_count": 20,
   "metadata": {
    "collapsed": false,
    "jupyter": {
     "outputs_hidden": false
    },
    "pycharm": {
     "name": "#%%\n"
    }
   },
   "outputs": [
    {
     "data": {
      "text/html": [
       "<div>\n",
       "<style scoped>\n",
       "    .dataframe tbody tr th:only-of-type {\n",
       "        vertical-align: middle;\n",
       "    }\n",
       "\n",
       "    .dataframe tbody tr th {\n",
       "        vertical-align: top;\n",
       "    }\n",
       "\n",
       "    .dataframe thead th {\n",
       "        text-align: right;\n",
       "    }\n",
       "</style>\n",
       "<table border=\"1\" class=\"dataframe\">\n",
       "  <thead>\n",
       "    <tr style=\"text-align: right;\">\n",
       "      <th></th>\n",
       "      <th>customer_id</th>\n",
       "      <th>review_id</th>\n",
       "      <th>product_id</th>\n",
       "      <th>star_rating</th>\n",
       "      <th>helpful_votes</th>\n",
       "      <th>total_votes</th>\n",
       "      <th>vine</th>\n",
       "      <th>verified_purchase</th>\n",
       "      <th>review_date</th>\n",
       "      <th>review</th>\n",
       "      <th>review_score</th>\n",
       "    </tr>\n",
       "  </thead>\n",
       "  <tbody>\n",
       "    <tr>\n",
       "      <th>0</th>\n",
       "      <td>40626522</td>\n",
       "      <td>R1A3ZUBR8TSAKY</td>\n",
       "      <td>B00793CZAE</td>\n",
       "      <td>5</td>\n",
       "      <td>0</td>\n",
       "      <td>0</td>\n",
       "      <td>False</td>\n",
       "      <td>True</td>\n",
       "      <td>2015-08-31</td>\n",
       "      <td>Love this!. Perfect match for the Gund Huggybu...</td>\n",
       "      <td>0.9020</td>\n",
       "    </tr>\n",
       "    <tr>\n",
       "      <th>1</th>\n",
       "      <td>16290022</td>\n",
       "      <td>RLJNYBK4FGBYX</td>\n",
       "      <td>B003PCYMP4</td>\n",
       "      <td>5</td>\n",
       "      <td>0</td>\n",
       "      <td>0</td>\n",
       "      <td>False</td>\n",
       "      <td>True</td>\n",
       "      <td>2015-08-31</td>\n",
       "      <td>Love 💕. My little girl love this paci contrapt...</td>\n",
       "      <td>0.9289</td>\n",
       "    </tr>\n",
       "    <tr>\n",
       "      <th>2</th>\n",
       "      <td>10216509</td>\n",
       "      <td>R26QCW75C4JDOK</td>\n",
       "      <td>B003CK3LDI</td>\n",
       "      <td>5</td>\n",
       "      <td>0</td>\n",
       "      <td>0</td>\n",
       "      <td>False</td>\n",
       "      <td>True</td>\n",
       "      <td>2015-08-31</td>\n",
       "      <td>Five Stars. My son loves this one and will onl...</td>\n",
       "      <td>0.5719</td>\n",
       "    </tr>\n",
       "    <tr>\n",
       "      <th>3</th>\n",
       "      <td>114040</td>\n",
       "      <td>R2E7N0TVLUHUDR</td>\n",
       "      <td>B003CK3LDI</td>\n",
       "      <td>5</td>\n",
       "      <td>0</td>\n",
       "      <td>0</td>\n",
       "      <td>False</td>\n",
       "      <td>True</td>\n",
       "      <td>2015-08-31</td>\n",
       "      <td>Five Stars. Perfect</td>\n",
       "      <td>0.5719</td>\n",
       "    </tr>\n",
       "    <tr>\n",
       "      <th>4</th>\n",
       "      <td>27971579</td>\n",
       "      <td>R1SO9VMCIGZX3U</td>\n",
       "      <td>B003PCYMP4</td>\n",
       "      <td>5</td>\n",
       "      <td>0</td>\n",
       "      <td>0</td>\n",
       "      <td>False</td>\n",
       "      <td>True</td>\n",
       "      <td>2015-08-31</td>\n",
       "      <td>Five Stars. Amazing addition to the nursery!</td>\n",
       "      <td>0.6239</td>\n",
       "    </tr>\n",
       "  </tbody>\n",
       "</table>\n",
       "</div>"
      ],
      "text/plain": [
       "  customer_id       review_id  product_id  star_rating  helpful_votes  \\\n",
       "0    40626522  R1A3ZUBR8TSAKY  B00793CZAE            5              0   \n",
       "1    16290022   RLJNYBK4FGBYX  B003PCYMP4            5              0   \n",
       "2    10216509  R26QCW75C4JDOK  B003CK3LDI            5              0   \n",
       "3      114040  R2E7N0TVLUHUDR  B003CK3LDI            5              0   \n",
       "4    27971579  R1SO9VMCIGZX3U  B003PCYMP4            5              0   \n",
       "\n",
       "   total_votes   vine  verified_purchase review_date  \\\n",
       "0            0  False               True  2015-08-31   \n",
       "1            0  False               True  2015-08-31   \n",
       "2            0  False               True  2015-08-31   \n",
       "3            0  False               True  2015-08-31   \n",
       "4            0  False               True  2015-08-31   \n",
       "\n",
       "                                              review  review_score  \n",
       "0  Love this!. Perfect match for the Gund Huggybu...        0.9020  \n",
       "1  Love 💕. My little girl love this paci contrapt...        0.9289  \n",
       "2  Five Stars. My son loves this one and will onl...        0.5719  \n",
       "3                                Five Stars. Perfect        0.5719  \n",
       "4       Five Stars. Amazing addition to the nursery!        0.6239  "
      ]
     },
     "execution_count": 20,
     "metadata": {},
     "output_type": "execute_result"
    },
    {
     "data": {
      "text/html": [
       "<div>\n",
       "<style scoped>\n",
       "    .dataframe tbody tr th:only-of-type {\n",
       "        vertical-align: middle;\n",
       "    }\n",
       "\n",
       "    .dataframe tbody tr th {\n",
       "        vertical-align: top;\n",
       "    }\n",
       "\n",
       "    .dataframe thead th {\n",
       "        text-align: right;\n",
       "    }\n",
       "</style>\n",
       "<table border=\"1\" class=\"dataframe\">\n",
       "  <thead>\n",
       "    <tr style=\"text-align: right;\">\n",
       "      <th></th>\n",
       "      <th>customer_id</th>\n",
       "      <th>review_id</th>\n",
       "      <th>product_id</th>\n",
       "      <th>star_rating</th>\n",
       "      <th>helpful_votes</th>\n",
       "      <th>total_votes</th>\n",
       "      <th>vine</th>\n",
       "      <th>verified_purchase</th>\n",
       "      <th>review_date</th>\n",
       "      <th>review</th>\n",
       "      <th>review_score</th>\n",
       "    </tr>\n",
       "  </thead>\n",
       "  <tbody>\n",
       "    <tr>\n",
       "      <th>0</th>\n",
       "      <td>21879631</td>\n",
       "      <td>RY52KZABZK8QF</td>\n",
       "      <td>B0052G14E8</td>\n",
       "      <td>1</td>\n",
       "      <td>0</td>\n",
       "      <td>0</td>\n",
       "      <td>False</td>\n",
       "      <td>True</td>\n",
       "      <td>2015-08-31</td>\n",
       "      <td>Do not recommend it. go use your money for som...</td>\n",
       "      <td>-0.7375</td>\n",
       "    </tr>\n",
       "    <tr>\n",
       "      <th>1</th>\n",
       "      <td>14964566</td>\n",
       "      <td>R3GCOEV4HYZG2I</td>\n",
       "      <td>B0055UBB4O</td>\n",
       "      <td>5</td>\n",
       "      <td>0</td>\n",
       "      <td>0</td>\n",
       "      <td>False</td>\n",
       "      <td>True</td>\n",
       "      <td>2015-08-31</td>\n",
       "      <td>Looks as good as the picture. Didn't use it lo...</td>\n",
       "      <td>0.6452</td>\n",
       "    </tr>\n",
       "    <tr>\n",
       "      <th>2</th>\n",
       "      <td>13230389</td>\n",
       "      <td>R1V2OPPNL0QGCE</td>\n",
       "      <td>B0052G14E8</td>\n",
       "      <td>4</td>\n",
       "      <td>0</td>\n",
       "      <td>0</td>\n",
       "      <td>False</td>\n",
       "      <td>True</td>\n",
       "      <td>2015-08-31</td>\n",
       "      <td>Four Stars. Very nice microwave, great price</td>\n",
       "      <td>0.8155</td>\n",
       "    </tr>\n",
       "    <tr>\n",
       "      <th>3</th>\n",
       "      <td>43655888</td>\n",
       "      <td>R9Q0QDTLKV567</td>\n",
       "      <td>B004ZU09QQ</td>\n",
       "      <td>3</td>\n",
       "      <td>0</td>\n",
       "      <td>1</td>\n",
       "      <td>False</td>\n",
       "      <td>True</td>\n",
       "      <td>2015-08-31</td>\n",
       "      <td>quiet. Quiet, but does not seem like 1000 watt...</td>\n",
       "      <td>-0.3950</td>\n",
       "    </tr>\n",
       "    <tr>\n",
       "      <th>4</th>\n",
       "      <td>117794</td>\n",
       "      <td>R3DL7HYC3QTWNI</td>\n",
       "      <td>B005GSZB7I</td>\n",
       "      <td>4</td>\n",
       "      <td>0</td>\n",
       "      <td>0</td>\n",
       "      <td>False</td>\n",
       "      <td>True</td>\n",
       "      <td>2015-08-31</td>\n",
       "      <td>Four Stars. It's bigger than I thought.</td>\n",
       "      <td>0.0000</td>\n",
       "    </tr>\n",
       "  </tbody>\n",
       "</table>\n",
       "</div>"
      ],
      "text/plain": [
       "  customer_id       review_id  product_id  star_rating  helpful_votes  \\\n",
       "0    21879631   RY52KZABZK8QF  B0052G14E8            1              0   \n",
       "1    14964566  R3GCOEV4HYZG2I  B0055UBB4O            5              0   \n",
       "2    13230389  R1V2OPPNL0QGCE  B0052G14E8            4              0   \n",
       "3    43655888   R9Q0QDTLKV567  B004ZU09QQ            3              0   \n",
       "4      117794  R3DL7HYC3QTWNI  B005GSZB7I            4              0   \n",
       "\n",
       "   total_votes   vine  verified_purchase review_date  \\\n",
       "0            0  False               True  2015-08-31   \n",
       "1            0  False               True  2015-08-31   \n",
       "2            0  False               True  2015-08-31   \n",
       "3            1  False               True  2015-08-31   \n",
       "4            0  False               True  2015-08-31   \n",
       "\n",
       "                                              review  review_score  \n",
       "0  Do not recommend it. go use your money for som...       -0.7375  \n",
       "1  Looks as good as the picture. Didn't use it lo...        0.6452  \n",
       "2       Four Stars. Very nice microwave, great price        0.8155  \n",
       "3  quiet. Quiet, but does not seem like 1000 watt...       -0.3950  \n",
       "4            Four Stars. It's bigger than I thought.        0.0000  "
      ]
     },
     "execution_count": 20,
     "metadata": {},
     "output_type": "execute_result"
    },
    {
     "data": {
      "text/html": [
       "<div>\n",
       "<style scoped>\n",
       "    .dataframe tbody tr th:only-of-type {\n",
       "        vertical-align: middle;\n",
       "    }\n",
       "\n",
       "    .dataframe tbody tr th {\n",
       "        vertical-align: top;\n",
       "    }\n",
       "\n",
       "    .dataframe thead th {\n",
       "        text-align: right;\n",
       "    }\n",
       "</style>\n",
       "<table border=\"1\" class=\"dataframe\">\n",
       "  <thead>\n",
       "    <tr style=\"text-align: right;\">\n",
       "      <th></th>\n",
       "      <th>customer_id</th>\n",
       "      <th>review_id</th>\n",
       "      <th>product_id</th>\n",
       "      <th>star_rating</th>\n",
       "      <th>helpful_votes</th>\n",
       "      <th>total_votes</th>\n",
       "      <th>vine</th>\n",
       "      <th>verified_purchase</th>\n",
       "      <th>review_date</th>\n",
       "      <th>review</th>\n",
       "      <th>review_score</th>\n",
       "    </tr>\n",
       "  </thead>\n",
       "  <tbody>\n",
       "    <tr>\n",
       "      <th>0</th>\n",
       "      <td>34678741</td>\n",
       "      <td>R9T1FE2ZX2X04</td>\n",
       "      <td>B003V264WW</td>\n",
       "      <td>5</td>\n",
       "      <td>0</td>\n",
       "      <td>0</td>\n",
       "      <td>False</td>\n",
       "      <td>True</td>\n",
       "      <td>2015-08-31</td>\n",
       "      <td>Works great. Works great!</td>\n",
       "      <td>0.8588</td>\n",
       "    </tr>\n",
       "    <tr>\n",
       "      <th>1</th>\n",
       "      <td>11599505</td>\n",
       "      <td>RE36JAD5V53PO</td>\n",
       "      <td>B0009XH6V4</td>\n",
       "      <td>4</td>\n",
       "      <td>0</td>\n",
       "      <td>0</td>\n",
       "      <td>False</td>\n",
       "      <td>True</td>\n",
       "      <td>2015-08-31</td>\n",
       "      <td>I love travel blow dryers because they are eas...</td>\n",
       "      <td>0.9647</td>\n",
       "    </tr>\n",
       "    <tr>\n",
       "      <th>2</th>\n",
       "      <td>2282190</td>\n",
       "      <td>RIDHM8B7SCCV3</td>\n",
       "      <td>B0007NZPY6</td>\n",
       "      <td>5</td>\n",
       "      <td>0</td>\n",
       "      <td>1</td>\n",
       "      <td>False</td>\n",
       "      <td>True</td>\n",
       "      <td>2015-08-31</td>\n",
       "      <td>Five Stars. Love this dryer!</td>\n",
       "      <td>0.6696</td>\n",
       "    </tr>\n",
       "    <tr>\n",
       "      <th>3</th>\n",
       "      <td>43669858</td>\n",
       "      <td>R14QGWPCHU9LSE</td>\n",
       "      <td>B00BB8ZIW0</td>\n",
       "      <td>5</td>\n",
       "      <td>0</td>\n",
       "      <td>0</td>\n",
       "      <td>False</td>\n",
       "      <td>True</td>\n",
       "      <td>2015-08-31</td>\n",
       "      <td>Five Stars. styling hair in style</td>\n",
       "      <td>0.0000</td>\n",
       "    </tr>\n",
       "    <tr>\n",
       "      <th>4</th>\n",
       "      <td>107098</td>\n",
       "      <td>R35BHQJHXXJD59</td>\n",
       "      <td>B003V264WW</td>\n",
       "      <td>4</td>\n",
       "      <td>0</td>\n",
       "      <td>0</td>\n",
       "      <td>False</td>\n",
       "      <td>False</td>\n",
       "      <td>2015-08-31</td>\n",
       "      <td>I think's great. The cord length is perfect. I...</td>\n",
       "      <td>0.9485</td>\n",
       "    </tr>\n",
       "  </tbody>\n",
       "</table>\n",
       "</div>"
      ],
      "text/plain": [
       "  customer_id       review_id  product_id  star_rating  helpful_votes  \\\n",
       "0    34678741   R9T1FE2ZX2X04  B003V264WW            5              0   \n",
       "1    11599505   RE36JAD5V53PO  B0009XH6V4            4              0   \n",
       "2     2282190   RIDHM8B7SCCV3  B0007NZPY6            5              0   \n",
       "3    43669858  R14QGWPCHU9LSE  B00BB8ZIW0            5              0   \n",
       "4      107098  R35BHQJHXXJD59  B003V264WW            4              0   \n",
       "\n",
       "   total_votes   vine  verified_purchase review_date  \\\n",
       "0            0  False               True  2015-08-31   \n",
       "1            0  False               True  2015-08-31   \n",
       "2            1  False               True  2015-08-31   \n",
       "3            0  False               True  2015-08-31   \n",
       "4            0  False              False  2015-08-31   \n",
       "\n",
       "                                              review  review_score  \n",
       "0                          Works great. Works great!        0.8588  \n",
       "1  I love travel blow dryers because they are eas...        0.9647  \n",
       "2                       Five Stars. Love this dryer!        0.6696  \n",
       "3                  Five Stars. styling hair in style        0.0000  \n",
       "4  I think's great. The cord length is perfect. I...        0.9485  "
      ]
     },
     "execution_count": 20,
     "metadata": {},
     "output_type": "execute_result"
    }
   ],
   "source": [
    "encodedDataPcf.head()\n",
    "\n",
    "encodedDataMcw.head()\n",
    "\n",
    "encodedDataHdr.head()"
   ]
  },
  {
   "cell_type": "markdown",
   "metadata": {},
   "source": [
    "词频统计"
   ]
  },
  {
   "cell_type": "code",
   "execution_count": 21,
   "metadata": {
    "collapsed": false,
    "jupyter": {
     "outputs_hidden": false
    },
    "pycharm": {
     "name": "#%%\n"
    }
   },
   "outputs": [],
   "source": [
    "from nltk import FreqDist\n",
    "\n",
    "def freq_words(x, terms=20):\n",
    "    all_words = ' '.join([text for text in x])\n",
    "    all_words = all_words.split()\n",
    "\n",
    "    fdist = FreqDist(all_words)\n",
    "    words_df = pd.DataFrame({'word':list(fdist.keys()), 'count':list(fdist.values())})\n",
    "\n",
    "    # selecting top 20 most frequent words\n",
    "    d = words_df.nlargest(columns=\"count\", n=terms)\n",
    "    plt.figure()\n",
    "    ax = sns.barplot(data=d, x=\"count\" , y=\"word\")\n",
    "    ax.set(ylabel = 'word')"
   ]
  },
  {
   "cell_type": "code",
   "execution_count": 22,
   "metadata": {
    "collapsed": false,
    "jupyter": {
     "outputs_hidden": false
    },
    "pycharm": {
     "name": "#%%\n"
    }
   },
   "outputs": [
    {
     "data": {
      "image/png": "[encoded data removed]",
      "text/plain": [
       "<Figure size 432x288 with 1 Axes>"
      ]
     },
     "metadata": {},
     "output_type": "display_data"
    },
    {
     "data": {
      "image/png": "[encoded data removed]",
      "text/plain": [
       "<Figure size 432x288 with 1 Axes>"
      ]
     },
     "metadata": {},
     "output_type": "display_data"
    },
    {
     "data": {
      "image/png": "[encoded data removed]",
      "text/plain": [
       "<Figure size 432x288 with 1 Axes>"
      ]
     },
     "metadata": {},
     "output_type": "display_data"
    }
   ],
   "source": [
    "freq_words(encodedDataPcf['review'])\n",
    "\n",
    "freq_words(encodedDataMcw['review'])\n",
    "\n",
    "freq_words(encodedDataHdr['review'])"
   ]
  },
  {
   "cell_type": "markdown",
   "metadata": {},
   "source": [
    "去除停用词后的词频统计"
   ]
  },
  {
   "cell_type": "code",
   "execution_count": 23,
   "metadata": {},
   "outputs": [],
   "source": [
    "from nltk.corpus import stopwords\n",
    "\n",
    "stop_words = stopwords.words('english')\n",
    "\n",
    "def remove_stopwords(rev):\n",
    "    rev = rev.apply(lambda x: ' '.join([w for w in x.split() if len(w)>2]))\n",
    "    rev_new = rev.apply(lambda x:\" \".join([w for w in x.split() if w not in stop_words]))\n",
    "    rev_new = rev_new.apply(str.lower)\n",
    "    \n",
    "    return rev_new"
   ]
  },
  {
   "cell_type": "code",
   "execution_count": 24,
   "metadata": {},
   "outputs": [
    {
     "data": {
      "image/png": "[encoded data removed]",
      "text/plain": [
       "<Figure size 432x288 with 1 Axes>"
      ]
     },
     "metadata": {},
     "output_type": "display_data"
    },
    {
     "data": {
      "image/png": "[encoded data removed]",
      "text/plain": [
       "<Figure size 432x288 with 1 Axes>"
      ]
     },
     "metadata": {},
     "output_type": "display_data"
    },
    {
     "data": {
      "image/png": "[encoded data removed]",
      "text/plain": [
       "<Figure size 432x288 with 1 Axes>"
      ]
     },
     "metadata": {},
     "output_type": "display_data"
    }
   ],
   "source": [
    "freq_words(remove_stopwords(encodedDataPcf['review']))\n",
    "\n",
    "freq_words(remove_stopwords(encodedDataMcw['review']))\n",
    "\n",
    "freq_words(remove_stopwords(encodedDataHdr['review']))"
   ]
  },
  {
   "cell_type": "code",
   "execution_count": 25,
   "metadata": {},
   "outputs": [],
   "source": [
    "PcfReview = remove_stopwords(encodedDataPcf['review'])\n",
    "\n",
    "McwReview = remove_stopwords(encodedDataMcw['review'])\n",
    "\n",
    "HdrReview = remove_stopwords(encodedDataHdr['review'])\n",
    "\n",
    "PcfAllReview = \"\".join(PcfReview.tolist())\n",
    "\n",
    "McwAllReview = \"\".join(McwReview.tolist())\n",
    "\n",
    "HdrAllReview = \"\".join(HdrReview.tolist())\n",
    "\n",
    "# print(PcfAllReview)"
   ]
  },
  {
   "cell_type": "markdown",
   "metadata": {},
   "source": [
    "词云制作"
   ]
  },
  {
   "cell_type": "code",
   "execution_count": 38,
   "metadata": {},
   "outputs": [],
   "source": [
    "import PIL.Image as image\n",
    "import numpy as np\n",
    "\n",
    "Pcf_mask = np.array(image.open(\"./materials/Pcf.png\"))\n",
    "\n",
    "Mcw_mask = np.array(image.open(\"./materials/Mcw.png\"))\n",
    "\n",
    "Hdr_mask = np.array(image.open(\"./materials/Hdr.png\"))"
   ]
  },
  {
   "cell_type": "code",
   "execution_count": 84,
   "metadata": {},
   "outputs": [],
   "source": [
    "from wordcloud import WordCloud\n",
    "\n",
    "Pcfwordcloud = WordCloud(mask=Pcf_mask, background_color='#FFFFFF', repeat=False).generate(PcfAllReview)\n",
    "\n",
    "Mcwwordcloud = WordCloud(mask=Mcw_mask, background_color='#FFFFFF', repeat=False).generate(McwAllReview)\n",
    "\n",
    "Hdrwordcloud = WordCloud(mask=Hdr_mask, background_color='#FFFFFF', repeat=False).generate(HdrAllReview)"
   ]
  },
  {
   "cell_type": "code",
   "execution_count": 85,
   "metadata": {},
   "outputs": [
    {
     "data": {
      "text/plain": [
       "<matplotlib.image.AxesImage at 0x1905fecde48>"
      ]
     },
     "execution_count": 85,
     "metadata": {},
     "output_type": "execute_result"
    },
    {
     "data": {
      "text/plain": [
       "(-0.5, 599.5, 599.5, -0.5)"
      ]
     },
     "execution_count": 85,
     "metadata": {},
     "output_type": "execute_result"
    },
    {
     "data": {
      "image/png": "[encoded data removed]",
      "text/plain": [
       "<Figure size 432x288 with 1 Axes>"
      ]
     },
     "metadata": {},
     "output_type": "display_data"
    }
   ],
   "source": [
    "plt.imshow(Pcfwordcloud, interpolation='bilinear')\n",
    "plt.axis(\"off\") # 去掉坐标轴"
   ]
  },
  {
   "cell_type": "code",
   "execution_count": 86,
   "metadata": {},
   "outputs": [
    {
     "data": {
      "text/plain": [
       "<matplotlib.image.AxesImage at 0x1905fe97888>"
      ]
     },
     "execution_count": 86,
     "metadata": {},
     "output_type": "execute_result"
    },
    {
     "data": {
      "text/plain": [
       "(-0.5, 799.5, 799.5, -0.5)"
      ]
     },
     "execution_count": 86,
     "metadata": {},
     "output_type": "execute_result"
    },
    {
     "data": {
      "image/png": "[encoded data removed]",
      "text/plain": [
       "<Figure size 432x288 with 1 Axes>"
      ]
     },
     "metadata": {},
     "output_type": "display_data"
    }
   ],
   "source": [
    "plt.imshow(Mcwwordcloud, interpolation='bilinear')\n",
    "plt.axis(\"off\") # 去掉坐标轴"
   ]
  },
  {
   "cell_type": "code",
   "execution_count": 87,
   "metadata": {},
   "outputs": [
    {
     "data": {
      "text/plain": [
       "<matplotlib.image.AxesImage at 0x1906596d708>"
      ]
     },
     "execution_count": 87,
     "metadata": {},
     "output_type": "execute_result"
    },
    {
     "data": {
      "text/plain": [
       "(-0.5, 511.5, 462.5, -0.5)"
      ]
     },
     "execution_count": 87,
     "metadata": {},
     "output_type": "execute_result"
    },
    {
     "data": {
      "image/png": "[encoded data removed]",
      "text/plain": [
       "<Figure size 432x288 with 1 Axes>"
      ]
     },
     "metadata": {},
     "output_type": "display_data"
    }
   ],
   "source": [
    "plt.imshow(Hdrwordcloud, interpolation='bilinear')\n",
    "plt.axis(\"off\") # 去掉坐标轴"
   ]
  },
  {
   "cell_type": "code",
   "execution_count": 88,
   "metadata": {},
   "outputs": [
    {
     "data": {
      "text/plain": [
       "<wordcloud.wordcloud.WordCloud at 0x1905b626508>"
      ]
     },
     "execution_count": 88,
     "metadata": {},
     "output_type": "execute_result"
    },
    {
     "data": {
      "text/plain": [
       "<wordcloud.wordcloud.WordCloud at 0x1905b91bfc8>"
      ]
     },
     "execution_count": 88,
     "metadata": {},
     "output_type": "execute_result"
    },
    {
     "data": {
      "text/plain": [
       "<wordcloud.wordcloud.WordCloud at 0x1904460fc88>"
      ]
     },
     "execution_count": 88,
     "metadata": {},
     "output_type": "execute_result"
    }
   ],
   "source": [
    "Pcfwordcloud.to_file(\"./Image/Pcf.png\")\n",
    "\n",
    "Mcwwordcloud.to_file(\"./Image/Mcw.png\")\n",
    "\n",
    "Hdrwordcloud.to_file(\"./Image/Hdr.png\")"
   ]
  },
  {
   "cell_type": "code",
   "execution_count": 56,
   "metadata": {},
   "outputs": [
    {
     "data": {
      "text/plain": [
       "'love this!. perfect match gund huggybuddy bought baby gift.'"
      ]
     },
     "execution_count": 56,
     "metadata": {},
     "output_type": "execute_result"
    }
   ],
   "source": [
    "PcfReview[0]"
   ]
  },
  {
   "cell_type": "markdown",
   "metadata": {},
   "source": [
    "修饰词获取"
   ]
  },
  {
   "cell_type": "code",
   "execution_count": 57,
   "metadata": {},
   "outputs": [],
   "source": [
    "import nltk\n",
    "from nltk.tokenize import word_tokenize,sent_tokenize\n",
    "from nltk.corpus import wordnet\n",
    "\n",
    "def get_advs(sen: str)->list:\n",
    "    advs = []\n",
    "    words = word_tokenize(sen)\n",
    "    pos_word = nltk.pos_tag(words)\n",
    "    for word in pos_word:\n",
    "        if word[1] == 'RB':\n",
    "            advs.append(word[0])\n",
    "\n",
    "    return advs"
   ]
  },
  {
   "cell_type": "markdown",
   "metadata": {},
   "source": [
    "非完整副词"
   ]
  },
  {
   "cell_type": "code",
   "execution_count": 58,
   "metadata": {},
   "outputs": [],
   "source": [
    "all_advs = []\n",
    "all_review = PcfReview.tolist() + McwReview.tolist() + HdrReview.tolist()\n",
    "for review in all_review:\n",
    "    all_advs.extend(get_advs(review))\n",
    "\n",
    "not_all_advs_list = nltk.pos_tag(list(set(all_advs)))"
   ]
  },
  {
   "cell_type": "code",
   "execution_count": 64,
   "metadata": {},
   "outputs": [
    {
     "name": "stdout",
     "output_type": "stream",
     "text": [
      "2026\n"
     ]
    }
   ],
   "source": [
    "print(len(not_all_advs_list))"
   ]
  },
  {
   "cell_type": "code",
   "execution_count": 68,
   "metadata": {},
   "outputs": [],
   "source": [
    "for index, each in enumerate(not_all_advs_list):\n",
    "    if each[1] != 'RB':\n",
    "        del not_all_advs_list[index]"
   ]
  },
  {
   "cell_type": "code",
   "execution_count": 74,
   "metadata": {},
   "outputs": [
    {
     "data": {
      "text/plain": [
       "1268"
      ]
     },
     "execution_count": 74,
     "metadata": {},
     "output_type": "execute_result"
    }
   ],
   "source": [
    "new_all_advs_list = not_all_advs_list\n",
    "\n",
    "len(new_all_advs_list)"
   ]
  },
  {
   "cell_type": "markdown",
   "metadata": {},
   "source": [
    "评论中所有修饰词"
   ]
  },
  {
   "cell_type": "code",
   "execution_count": 82,
   "metadata": {},
   "outputs": [],
   "source": [
    "for index, each in enumerate(new_all_advs_list):\n",
    "    if each[1] != 'RB':\n",
    "        del not_all_advs_list[index]"
   ]
  },
  {
   "cell_type": "code",
   "execution_count": 83,
   "metadata": {},
   "outputs": [
    {
     "data": {
      "text/plain": [
       "798"
      ]
     },
     "execution_count": 83,
     "metadata": {},
     "output_type": "execute_result"
    }
   ],
   "source": [
    "len(new_all_advs_list)"
   ]
  },
  {
   "cell_type": "code",
   "execution_count": null,
   "metadata": {},
   "outputs": [],
   "source": []
  }
 ],
 "metadata": {
  "kernelspec": {
   "display_name": "PyCharm (MCMICM2020C)",
   "language": "python",
   "name": "pycharm-40a75171"
  },
  "language_info": {
   "codemirror_mode": {
    "name": "ipython",
    "version": 3
   },
   "file_extension": ".py",
   "mimetype": "text/x-python",
   "name": "python",
   "nbconvert_exporter": "python",
   "pygments_lexer": "ipython3",
   "version": "3.7.7"
  }
 },
 "nbformat": 4,
 "nbformat_minor": 4
}
